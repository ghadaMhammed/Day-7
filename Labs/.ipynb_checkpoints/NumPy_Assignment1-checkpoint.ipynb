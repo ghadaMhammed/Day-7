{
 "cells": [
  {
   "cell_type": "code",
   "execution_count": 1,
   "id": "212fd1ba",
   "metadata": {},
   "outputs": [],
   "source": [
    "import numpy as np"
   ]
  },
  {
   "cell_type": "markdown",
   "id": "10803eb0",
   "metadata": {},
   "source": [
    "## Q#1: Create x array with elements equal to 1."
   ]
  },
  {
   "cell_type": "code",
   "execution_count": 3,
   "id": "3307454f",
   "metadata": {},
   "outputs": [
    {
     "name": "stdout",
     "output_type": "stream",
     "text": [
      "[1. 1. 1. 1. 1. 1. 1. 1. 1. 1.]\n"
     ]
    }
   ],
   "source": [
    "# write your code here ^_^\n",
    "data_ones = np.ones(10)\n",
    "print(data_ones)"
   ]
  },
  {
   "cell_type": "markdown",
   "id": "7795306d",
   "metadata": {},
   "source": [
    "## Q#2: Create y array with elements equal to 0."
   ]
  },
  {
   "cell_type": "code",
   "execution_count": 5,
   "id": "9550b063",
   "metadata": {},
   "outputs": [
    {
     "name": "stdout",
     "output_type": "stream",
     "text": [
      "[0. 0. 0. 0. 0. 0. 0. 0. 0. 0.]\n"
     ]
    }
   ],
   "source": [
    "# write your code here ^_^\n",
    "data_zeros = np.zeros(10)\n",
    "print(data_zeros)"
   ]
  },
  {
   "cell_type": "markdown",
   "id": "cde6a939",
   "metadata": {},
   "source": [
    "## Q#3: Add x and y arrays."
   ]
  },
  {
   "cell_type": "code",
   "execution_count": 7,
   "id": "71070d1d",
   "metadata": {},
   "outputs": [
    {
     "name": "stdout",
     "output_type": "stream",
     "text": [
      "[ 6  8 10 12]\n"
     ]
    }
   ],
   "source": [
    "# write your code here ^_^\n",
    "x = np.array([1,2,3,4])\n",
    "y = np.array([5,6,7,8])\n",
    "print(x+y)"
   ]
  },
  {
   "cell_type": "markdown",
   "id": "ed854f4c",
   "metadata": {},
   "source": [
    "## Q#4: Print x array characteristics (e.g: dimension, shape, size, type)."
   ]
  },
  {
   "cell_type": "code",
   "execution_count": 9,
   "id": "32627c83",
   "metadata": {},
   "outputs": [
    {
     "name": "stdout",
     "output_type": "stream",
     "text": [
      "x dimention 1\n",
      "x shape (4,)\n",
      "x size 4\n",
      "x data type int32\n"
     ]
    }
   ],
   "source": [
    "# write your code here ^_^\n",
    "print(\"x dimention\" , x.ndim)\n",
    "print(\"x shape\" , x.shape)\n",
    "print(\"x size\", x.size)\n",
    "print(\"x data type\", x.dtype)"
   ]
  },
  {
   "cell_type": "markdown",
   "id": "dbd46a73",
   "metadata": {},
   "source": [
    "## Q#5: Create a 2D array \"called w\" as the following:\n",
    "\n",
    "|       |          |\n",
    "| ----- | -------- |\n",
    "| 11    | 12       |\n",
    "| 13    | 14       |\n",
    "| 15    | 16       |\n"
   ]
  },
  {
   "cell_type": "code",
   "execution_count": 11,
   "id": "b9c7bbb0",
   "metadata": {},
   "outputs": [
    {
     "name": "stdout",
     "output_type": "stream",
     "text": [
      "[[11 12]\n",
      " [13 14]\n",
      " [15 16]]\n"
     ]
    }
   ],
   "source": [
    "# write your code here ^_^\n",
    "w=np.array([[11,12],[13,14],[15,16]])\n",
    "print(w)"
   ]
  },
  {
   "cell_type": "markdown",
   "id": "0e62bd09",
   "metadata": {},
   "source": [
    "## Q#6: Create z array contains the numbers from 1 to 3."
   ]
  },
  {
   "cell_type": "code",
   "execution_count": 13,
   "id": "cee8aba0",
   "metadata": {},
   "outputs": [
    {
     "name": "stdout",
     "output_type": "stream",
     "text": [
      "[1 2 3]\n"
     ]
    }
   ],
   "source": [
    "# write your code here ^_^\n",
    "z=np.array([1,2,3])\n",
    "print(z)"
   ]
  },
  {
   "cell_type": "markdown",
   "id": "32b00711",
   "metadata": {},
   "source": [
    "## Q#7: Combine the arrays z and w in horizontal way then save it in a new variable \"newArray\"."
   ]
  },
  {
   "cell_type": "code",
   "execution_count": 15,
   "id": "d218f892",
   "metadata": {},
   "outputs": [
    {
     "name": "stdout",
     "output_type": "stream",
     "text": [
      "w before flatten (make them in one dimention): \n",
      "[[11 12]\n",
      " [13 14]\n",
      " [15 16]]\n",
      "w after flatten: \n",
      "[11 12 13 14 15 16]\n",
      "newArray: \n",
      "[11 12 13 14 15 16  1  2  3]\n"
     ]
    }
   ],
   "source": [
    "# write your code here ^_^\n",
    "if w.ndim != z.ndim:\n",
    " print(\"w before flatten (make them in one dimention): \")\n",
    " print(w)\n",
    " w=w.flatten()\n",
    " print(\"w after flatten: \")\n",
    " print(w)\n",
    " newArray=np.hstack((w,z))\n",
    " print(\"newArray: \")\n",
    " print(newArray)\n",
    "else:\n",
    "  newArray=np.hstack((w,z))\n",
    "  print(\"newArray: \")\n",
    "  print(newArray)"
   ]
  },
  {
   "cell_type": "markdown",
   "id": "7e009910",
   "metadata": {},
   "source": [
    "## Q#8: Print all elements of \"newArray\" using the loop."
   ]
  },
  {
   "cell_type": "code",
   "execution_count": 17,
   "id": "abbed923",
   "metadata": {},
   "outputs": [
    {
     "name": "stdout",
     "output_type": "stream",
     "text": [
      "11\n",
      "12\n",
      "13\n",
      "14\n",
      "15\n",
      "16\n",
      "1\n",
      "2\n",
      "3\n"
     ]
    }
   ],
   "source": [
    "# write your code here ^_^\n",
    "for i in newArray:\n",
    "  print(i)"
   ]
  },
  {
   "cell_type": "markdown",
   "id": "011c6d2d",
   "metadata": {},
   "source": [
    "## Q#9: Reverse the columns and rows of \"newArray\"."
   ]
  },
  {
   "cell_type": "code",
   "execution_count": 19,
   "id": "12e3f0db",
   "metadata": {},
   "outputs": [
    {
     "name": "stdout",
     "output_type": "stream",
     "text": [
      "before reverse newArray:  [11 12 13 14 15 16  1  2  3]\n",
      "after reverse newArray:  [ 3  2  1 16 15 14 13 12 11]\n"
     ]
    }
   ],
   "source": [
    "# write your code here ^_^\n",
    "print(\"before reverse newArray: \", newArray)\n",
    "reversed_arr = newArray[::-1]\n",
    "print(\"after reverse newArray: \", reversed_arr)"
   ]
  },
  {
   "cell_type": "markdown",
   "id": "f40b57c3",
   "metadata": {},
   "source": [
    "## Q#10: Decrement all elements of \"newArray\" with 1."
   ]
  },
  {
   "cell_type": "code",
   "execution_count": 21,
   "id": "aea004df",
   "metadata": {},
   "outputs": [
    {
     "name": "stdout",
     "output_type": "stream",
     "text": [
      "before decrement newArray:  [11 12 13 14 15 16  1  2  3]\n",
      "after decrement newArray:  [10 11 12 13 14 15  0  1  2]\n"
     ]
    }
   ],
   "source": [
    "# write your code here ^_^\n",
    "print(\"before decrement newArray: \", newArray)\n",
    "newArray = np.subtract(newArray, 1)\n",
    "print(\"after decrement newArray: \", newArray)"
   ]
  },
  {
   "cell_type": "markdown",
   "id": "8901e8be",
   "metadata": {},
   "source": [
    "## Q#11: Find smallest and biggest values in \"newArray\"."
   ]
  },
  {
   "cell_type": "code",
   "execution_count": 23,
   "id": "4ea08613",
   "metadata": {},
   "outputs": [
    {
     "name": "stdout",
     "output_type": "stream",
     "text": [
      "smallest value in newArray:  0\n",
      "biggest value in newArray:  15\n"
     ]
    }
   ],
   "source": [
    "# write your code here ^_^\n",
    "print(\"smallest value in newArray: \", np.min(newArray))\n",
    "print(\"biggest value in newArray: \", np.max(newArray))"
   ]
  },
  {
   "cell_type": "markdown",
   "id": "c5d5d4ca",
   "metadata": {},
   "source": [
    "## Q#12: Print the first row of \"newArray\" using indexing."
   ]
  },
  {
   "cell_type": "code",
   "execution_count": 25,
   "id": "73e3b5a5",
   "metadata": {},
   "outputs": [
    {
     "name": "stdout",
     "output_type": "stream",
     "text": [
      "newArray before reshape:\n",
      "  [10 11 12 13 14 15  0  1  2]\n",
      "newArray after reshape:\n",
      "  [[10 11 12]\n",
      " [13 14 15]\n",
      " [ 0  1  2]]\n",
      "first row of newArray:  [10 11 12]\n"
     ]
    }
   ],
   "source": [
    "# write your code here ^_^\n",
    "print(\"newArray before reshape:\\n \",newArray)\n",
    "newArray = newArray.reshape(3, 3)\n",
    "print(\"newArray after reshape:\\n \",newArray)\n",
    "print(\"first row of newArray: \", newArray[0])"
   ]
  },
  {
   "cell_type": "markdown",
   "id": "78f4d6c1",
   "metadata": {},
   "source": [
    "## Q#13: Print the number equals 12 of \"newArray\" using indexing."
   ]
  },
  {
   "cell_type": "code",
   "execution_count": 27,
   "id": "7ad660b7",
   "metadata": {},
   "outputs": [
    {
     "name": "stdout",
     "output_type": "stream",
     "text": [
      "The number 12 in newArray:  12\n"
     ]
    }
   ],
   "source": [
    "# write your code here ^_^\n",
    "print(\"The number 12 in newArray: \", newArray[0, 2])"
   ]
  },
  {
   "cell_type": "markdown",
   "id": "932b5c3d",
   "metadata": {},
   "source": [
    "## Q#14: Print the numbers equal 0 and 13 of \"newArray\" using indexing."
   ]
  },
  {
   "cell_type": "code",
   "execution_count": 29,
   "id": "31fb5fd0",
   "metadata": {},
   "outputs": [
    {
     "name": "stdout",
     "output_type": "stream",
     "text": [
      "newArray: \n",
      " [[10 11 12]\n",
      " [13 14 15]\n",
      " [ 0  1  2]]\n",
      "The numbers equal 0 and 13 in newArray: \n",
      " 13 0\n"
     ]
    }
   ],
   "source": [
    "# write your code here ^_^\n",
    "print(\"newArray: \\n\",newArray)\n",
    "print(\"The numbers equal 0 and 13 in newArray: \\n\",newArray[1][0],newArray[2][0])\n"
   ]
  },
  {
   "cell_type": "markdown",
   "id": "27e0f68e",
   "metadata": {},
   "source": [
    "## Q#15: Change the shape of \"newArray\" to (9,1)."
   ]
  },
  {
   "cell_type": "code",
   "execution_count": 31,
   "id": "35f224ad",
   "metadata": {},
   "outputs": [
    {
     "name": "stdout",
     "output_type": "stream",
     "text": [
      "newArray before reshape:\n",
      "  [[10 11 12]\n",
      " [13 14 15]\n",
      " [ 0  1  2]]\n",
      "newArray after reshape:\n",
      "  [[10]\n",
      " [11]\n",
      " [12]\n",
      " [13]\n",
      " [14]\n",
      " [15]\n",
      " [ 0]\n",
      " [ 1]\n",
      " [ 2]]\n"
     ]
    }
   ],
   "source": [
    "# write your code here ^_^\n",
    "print(\"newArray before reshape:\\n \",newArray)\n",
    "newArray = newArray.reshape(9, 1)\n",
    "print(\"newArray after reshape:\\n \",newArray)"
   ]
  },
  {
   "cell_type": "markdown",
   "id": "e6d104c5",
   "metadata": {},
   "source": [
    "## Q#16: Change the shape of \"newArray\" to (3,2)."
   ]
  },
  {
   "cell_type": "code",
   "execution_count": 33,
   "id": "724d51d5",
   "metadata": {},
   "outputs": [
    {
     "name": "stdout",
     "output_type": "stream",
     "text": [
      "newArray before reshape:\n",
      "  [[10]\n",
      " [11]\n",
      " [12]\n",
      " [13]\n",
      " [14]\n",
      " [15]\n",
      " [ 0]\n",
      " [ 1]\n",
      " [ 2]]\n",
      "newArray after reshape:\n",
      "  [[10 11]\n",
      " [12 13]\n",
      " [14 15]]\n"
     ]
    }
   ],
   "source": [
    "# write your code here ^_^\n",
    "print(\"newArray before reshape:\\n \",newArray)\n",
    "newArray = np.resize(newArray, (3, 2))\n",
    "print(\"newArray after reshape:\\n \",newArray)"
   ]
  },
  {
   "cell_type": "markdown",
   "id": "09567fdc",
   "metadata": {},
   "source": [
    "# Well Done 🎉"
   ]
  }
 ],
 "metadata": {
  "kernelspec": {
   "display_name": "Python 3 (ipykernel)",
   "language": "python",
   "name": "python3"
  },
  "language_info": {
   "codemirror_mode": {
    "name": "ipython",
    "version": 3
   },
   "file_extension": ".py",
   "mimetype": "text/x-python",
   "name": "python",
   "nbconvert_exporter": "python",
   "pygments_lexer": "ipython3",
   "version": "3.12.4"
  }
 },
 "nbformat": 4,
 "nbformat_minor": 5
}
